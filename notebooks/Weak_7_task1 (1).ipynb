{
  "nbformat": 4,
  "nbformat_minor": 0,
  "metadata": {
    "colab": {
      "provenance": []
    },
    "kernelspec": {
      "name": "python3",
      "display_name": "Python 3"
    },
    "language_info": {
      "name": "python"
    }
  },
  "cells": [
    {
      "cell_type": "code",
      "execution_count": 10,
      "metadata": {
        "colab": {
          "base_uri": "https://localhost:8080/"
        },
        "id": "d2tQAGVdWs8u",
        "outputId": "0ee95da7-f4ee-4b60-8120-7d0c3cc6d820"
      },
      "outputs": [
        {
          "output_type": "stream",
          "name": "stdout",
          "text": [
            "Requirement already satisfied: telethon in /usr/local/lib/python3.11/dist-packages (1.38.1)\n",
            "Requirement already satisfied: pyaes in /usr/local/lib/python3.11/dist-packages (from telethon) (1.6.1)\n",
            "Requirement already satisfied: rsa in /usr/local/lib/python3.11/dist-packages (from telethon) (4.9)\n",
            "Requirement already satisfied: pyasn1>=0.1.3 in /usr/local/lib/python3.11/dist-packages (from rsa->telethon) (0.6.1)\n"
          ]
        }
      ],
      "source": [
        "# Install the necessary packages in Colab\n",
        "!pip install telethon\n"
      ]
    },
    {
      "cell_type": "code",
      "source": [
        "from google.colab import drive\n",
        "drive.mount('/content/drive')\n"
      ],
      "metadata": {
        "colab": {
          "base_uri": "https://localhost:8080/"
        },
        "id": "BTbbyXI6WzSu",
        "outputId": "88efeaa7-68eb-4451-a40a-25b5d9aabccd"
      },
      "execution_count": 11,
      "outputs": [
        {
          "output_type": "stream",
          "name": "stdout",
          "text": [
            "Drive already mounted at /content/drive; to attempt to forcibly remount, call drive.mount(\"/content/drive\", force_remount=True).\n"
          ]
        }
      ]
    },
    {
      "cell_type": "code",
      "source": [
        "import zipfile\n",
        "import os\n",
        "\n",
        "# Define the path to the zip file\n",
        "zip_file_path = '//content/drive/MyDrive/telegram_scrapper_postgres_db.zip'\n",
        "\n",
        "# Define the extraction folder\n",
        "extraction_folder = '/content/drive/MyDrive/unzipped_files/'\n",
        "\n",
        "# Extract the zip file\n",
        "with zipfile.ZipFile(zip_file_path, 'r') as zip_ref:\n",
        "    zip_ref.extractall(extraction_folder)\n",
        "\n",
        "print(f\"Files extracted to {extraction_folder}\")\n"
      ],
      "metadata": {
        "colab": {
          "base_uri": "https://localhost:8080/"
        },
        "id": "fDtMVicHW8Q8",
        "outputId": "a0fb9092-a962-4945-e705-bcdcc5d48ffc"
      },
      "execution_count": null,
      "outputs": [
        {
          "output_type": "stream",
          "name": "stdout",
          "text": [
            "Files extracted to /content/drive/MyDrive/unzipped_files/\n"
          ]
        }
      ]
    },
    {
      "cell_type": "code",
      "source": [
        "from telethon import TelegramClient\n",
        "import logging\n",
        "\n",
        "# Set up logging\n",
        "logging.basicConfig(level=logging.INFO)\n",
        "logger = logging.getLogger()\n",
        "\n",
        "# Replace with your own Telegram API credentials\n",
        "api_id = ''  # You can get this from https://my.telegram.org/auth\n",
        "api_hash = ''  # You can get this from https://my.telegram.org/auth\n",
        "\n",
        "# Create the client instance\n",
        "client = TelegramClient('session_name', api_id, api_hash)\n",
        "\n",
        "# Start the client\n",
        "await client.start()\n"
      ],
      "metadata": {
        "colab": {
          "base_uri": "https://localhost:8080/",
          "height": 339
        },
        "id": "Vijl5A_RXEsP",
        "outputId": "e843428c-4704-43ec-d40b-5d6f9c465768"
      },
      "execution_count": 14,
      "outputs": [
        {
          "output_type": "error",
          "ename": "OperationalError",
          "evalue": "database is locked",
          "traceback": [
            "\u001b[0;31m---------------------------------------------------------------------------\u001b[0m",
            "\u001b[0;31mOperationalError\u001b[0m                          Traceback (most recent call last)",
            "\u001b[0;32m<ipython-input-14-969ec50b973f>\u001b[0m in \u001b[0;36m<cell line: 1>\u001b[0;34m()\u001b[0m\n\u001b[1;32m     14\u001b[0m \u001b[0;34m\u001b[0m\u001b[0m\n\u001b[1;32m     15\u001b[0m \u001b[0;31m# Start the client\u001b[0m\u001b[0;34m\u001b[0m\u001b[0;34m\u001b[0m\u001b[0m\n\u001b[0;32m---> 16\u001b[0;31m \u001b[0;32mawait\u001b[0m \u001b[0mclient\u001b[0m\u001b[0;34m.\u001b[0m\u001b[0mstart\u001b[0m\u001b[0;34m(\u001b[0m\u001b[0;34m)\u001b[0m\u001b[0;34m\u001b[0m\u001b[0;34m\u001b[0m\u001b[0m\n\u001b[0m",
            "\u001b[0;32m/usr/local/lib/python3.11/dist-packages/telethon/client/auth.py\u001b[0m in \u001b[0;36m_start\u001b[0;34m(self, phone, password, bot_token, force_sms, code_callback, first_name, last_name, max_attempts)\u001b[0m\n\u001b[1;32m    133\u001b[0m             code_callback, first_name, last_name, max_attempts):\n\u001b[1;32m    134\u001b[0m         \u001b[0;32mif\u001b[0m \u001b[0;32mnot\u001b[0m \u001b[0mself\u001b[0m\u001b[0;34m.\u001b[0m\u001b[0mis_connected\u001b[0m\u001b[0;34m(\u001b[0m\u001b[0;34m)\u001b[0m\u001b[0;34m:\u001b[0m\u001b[0;34m\u001b[0m\u001b[0;34m\u001b[0m\u001b[0m\n\u001b[0;32m--> 135\u001b[0;31m             \u001b[0;32mawait\u001b[0m \u001b[0mself\u001b[0m\u001b[0;34m.\u001b[0m\u001b[0mconnect\u001b[0m\u001b[0;34m(\u001b[0m\u001b[0;34m)\u001b[0m\u001b[0;34m\u001b[0m\u001b[0;34m\u001b[0m\u001b[0m\n\u001b[0m\u001b[1;32m    136\u001b[0m \u001b[0;34m\u001b[0m\u001b[0m\n\u001b[1;32m    137\u001b[0m         \u001b[0;31m# Rather than using `is_user_authorized`, use `get_me`. While this is\u001b[0m\u001b[0;34m\u001b[0m\u001b[0;34m\u001b[0m\u001b[0m\n",
            "\u001b[0;32m/usr/local/lib/python3.11/dist-packages/telethon/client/telegrambaseclient.py\u001b[0m in \u001b[0;36mconnect\u001b[0;34m(self)\u001b[0m\n\u001b[1;32m    557\u001b[0m             \u001b[0;32mreturn\u001b[0m\u001b[0;34m\u001b[0m\u001b[0;34m\u001b[0m\u001b[0m\n\u001b[1;32m    558\u001b[0m \u001b[0;34m\u001b[0m\u001b[0m\n\u001b[0;32m--> 559\u001b[0;31m         \u001b[0mself\u001b[0m\u001b[0;34m.\u001b[0m\u001b[0msession\u001b[0m\u001b[0;34m.\u001b[0m\u001b[0mauth_key\u001b[0m \u001b[0;34m=\u001b[0m \u001b[0mself\u001b[0m\u001b[0;34m.\u001b[0m\u001b[0m_sender\u001b[0m\u001b[0;34m.\u001b[0m\u001b[0mauth_key\u001b[0m\u001b[0;34m\u001b[0m\u001b[0;34m\u001b[0m\u001b[0m\n\u001b[0m\u001b[1;32m    560\u001b[0m         \u001b[0mself\u001b[0m\u001b[0;34m.\u001b[0m\u001b[0msession\u001b[0m\u001b[0;34m.\u001b[0m\u001b[0msave\u001b[0m\u001b[0;34m(\u001b[0m\u001b[0;34m)\u001b[0m\u001b[0;34m\u001b[0m\u001b[0;34m\u001b[0m\u001b[0m\n\u001b[1;32m    561\u001b[0m \u001b[0;34m\u001b[0m\u001b[0m\n",
            "\u001b[0;32m/usr/local/lib/python3.11/dist-packages/telethon/sessions/sqlite.py\u001b[0m in \u001b[0;36mauth_key\u001b[0;34m(self, value)\u001b[0m\n\u001b[1;32m    178\u001b[0m     \u001b[0;32mdef\u001b[0m \u001b[0mauth_key\u001b[0m\u001b[0;34m(\u001b[0m\u001b[0mself\u001b[0m\u001b[0;34m,\u001b[0m \u001b[0mvalue\u001b[0m\u001b[0;34m)\u001b[0m\u001b[0;34m:\u001b[0m\u001b[0;34m\u001b[0m\u001b[0;34m\u001b[0m\u001b[0m\n\u001b[1;32m    179\u001b[0m         \u001b[0mself\u001b[0m\u001b[0;34m.\u001b[0m\u001b[0m_auth_key\u001b[0m \u001b[0;34m=\u001b[0m \u001b[0mvalue\u001b[0m\u001b[0;34m\u001b[0m\u001b[0;34m\u001b[0m\u001b[0m\n\u001b[0;32m--> 180\u001b[0;31m         \u001b[0mself\u001b[0m\u001b[0;34m.\u001b[0m\u001b[0m_update_session_table\u001b[0m\u001b[0;34m(\u001b[0m\u001b[0;34m)\u001b[0m\u001b[0;34m\u001b[0m\u001b[0;34m\u001b[0m\u001b[0m\n\u001b[0m\u001b[1;32m    181\u001b[0m \u001b[0;34m\u001b[0m\u001b[0m\n\u001b[1;32m    182\u001b[0m     \u001b[0;34m@\u001b[0m\u001b[0mMemorySession\u001b[0m\u001b[0;34m.\u001b[0m\u001b[0mtakeout_id\u001b[0m\u001b[0;34m.\u001b[0m\u001b[0msetter\u001b[0m\u001b[0;34m\u001b[0m\u001b[0;34m\u001b[0m\u001b[0m\n",
            "\u001b[0;32m/usr/local/lib/python3.11/dist-packages/telethon/sessions/sqlite.py\u001b[0m in \u001b[0;36m_update_session_table\u001b[0;34m(self)\u001b[0m\n\u001b[1;32m    192\u001b[0m         \u001b[0;31m# some more work before being able to save auth_key's for\u001b[0m\u001b[0;34m\u001b[0m\u001b[0;34m\u001b[0m\u001b[0m\n\u001b[1;32m    193\u001b[0m         \u001b[0;31m# multiple DCs. Probably done differently.\u001b[0m\u001b[0;34m\u001b[0m\u001b[0;34m\u001b[0m\u001b[0m\n\u001b[0;32m--> 194\u001b[0;31m         \u001b[0mc\u001b[0m\u001b[0;34m.\u001b[0m\u001b[0mexecute\u001b[0m\u001b[0;34m(\u001b[0m\u001b[0;34m'delete from sessions'\u001b[0m\u001b[0;34m)\u001b[0m\u001b[0;34m\u001b[0m\u001b[0;34m\u001b[0m\u001b[0m\n\u001b[0m\u001b[1;32m    195\u001b[0m         c.execute('insert or replace into sessions values (?,?,?,?,?)', (\n\u001b[1;32m    196\u001b[0m             \u001b[0mself\u001b[0m\u001b[0;34m.\u001b[0m\u001b[0m_dc_id\u001b[0m\u001b[0;34m,\u001b[0m\u001b[0;34m\u001b[0m\u001b[0;34m\u001b[0m\u001b[0m\n",
            "\u001b[0;31mOperationalError\u001b[0m: database is locked"
          ]
        }
      ]
    },
    {
      "cell_type": "code",
      "source": [
        "# Function to scrape messages from Telegram channels\n",
        "async def scrape_channel(channel_url):\n",
        "    try:\n",
        "        # Get the channel\n",
        "        channel = await client.get_entity(channel_url)\n",
        "\n",
        "        # Scrape messages from the channel\n",
        "        messages = await client.get_messages(channel, limit=100)  # You can adjust the limit\n",
        "\n",
        "        # Create a list to store the scraped data\n",
        "        scraped_data = []\n",
        "\n",
        "        for message in messages:\n",
        "            # Check if the message contains any media (like images)\n",
        "            if message.media:\n",
        "                # Download the media\n",
        "                await message.download_media(file='images/')  # Save media to 'images/' folder\n",
        "\n",
        "            # Store text messages\n",
        "            scraped_data.append(message.text)\n",
        "\n",
        "        # Save the scraped data to a file (you can use CSV, JSON, etc.)\n",
        "        with open('/content/drive/MyDrive/scraped_data.txt', 'w') as f:\n",
        "            for data in scraped_data:\n",
        "                f.write(f\"{data}\\n\")\n",
        "\n",
        "        logger.info(f\"Successfully scraped {len(scraped_data)} messages from {channel_url}\")\n",
        "\n",
        "    except Exception as e:\n",
        "        logger.error(f\"Error while scraping {channel_url}: {e}\")\n",
        "\n",
        "# List of channels to scrape\n",
        "channels = [\n",
        "    'https://t.me/DoctorsET',\n",
        "    'https://t.me/lobelia4cosmetics',\n",
        "    'https://t.me/yetenaweg',\n",
        "    'https://t.me/EAHCI'\n",
        "]\n",
        "\n",
        "# Scrape each channel\n",
        "for channel in channels:\n",
        "    await scrape_channel(channel)\n"
      ],
      "metadata": {
        "colab": {
          "base_uri": "https://localhost:8080/"
        },
        "id": "zzyXS-h6ZHBo",
        "outputId": "fe798683-b8ed-4eaa-d8cb-5f324801d996"
      },
      "execution_count": null,
      "outputs": [
        {
          "output_type": "stream",
          "name": "stderr",
          "text": [
            "ERROR:root:Error while scraping https://t.me/DoctorsET: The API access for bot users is restricted. The method you tried to invoke cannot be executed as a bot (caused by GetHistoryRequest)\n",
            "ERROR:root:Error while scraping https://t.me/lobelia4cosmetics: The API access for bot users is restricted. The method you tried to invoke cannot be executed as a bot (caused by GetHistoryRequest)\n",
            "ERROR:root:Error while scraping https://t.me/yetenaweg: The API access for bot users is restricted. The method you tried to invoke cannot be executed as a bot (caused by GetHistoryRequest)\n",
            "ERROR:root:Error while scraping https://t.me/EAHCI: The API access for bot users is restricted. The method you tried to invoke cannot be executed as a bot (caused by GetHistoryRequest)\n"
          ]
        }
      ]
    },
    {
      "cell_type": "code",
      "source": [
        "# Example of logging for monitoring the progress\n",
        "logger.info(\"Starting Telegram scraping...\")\n",
        "\n",
        "# Scraping task\n",
        "try:\n",
        "    for channel in channels:\n",
        "        logger.info(f\"Scraping data from {channel}...\")\n",
        "        await scrape_channel(channel)\n",
        "    logger.info(\"Scraping completed successfully.\")\n",
        "except Exception as e:\n",
        "    logger.error(f\"Scraping failed with error: {e}\")\n"
      ],
      "metadata": {
        "id": "vnEhVkYrZxs9"
      },
      "execution_count": null,
      "outputs": []
    },
    {
      "cell_type": "code",
      "source": [
        "import logging\n",
        "\n",
        "# Setup logger\n",
        "logging.basicConfig(level=logging.INFO)\n",
        "logger = logging.getLogger()\n",
        "\n",
        "# Example function to handle errors\n",
        "def log_error(error_message):\n",
        "    logger.error(f\"Error: {error_message}\")\n",
        "\n",
        "# Example function to log progress\n",
        "def log_progress(progress_message):\n",
        "    logger.info(f\"Progress: {progress_message}\")\n"
      ],
      "metadata": {
        "id": "poeKQ21WZ0tl"
      },
      "execution_count": null,
      "outputs": []
    }
  ]
}